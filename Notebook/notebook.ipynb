{
 "cells": [
  {
   "cell_type": "code",
   "execution_count": 1,
   "id": "ffefbeba",
   "metadata": {},
   "outputs": [],
   "source": [
    "import pandas as pd \n",
    "import requests\n",
    "from bs4 import BeautifulSoup\n",
    "import csv\n",
    "from langchain_core.prompts import ChatPromptTemplate\n",
    "from langchain_core.output_parsers import StrOutputParser\n",
    "from langchain_community.llms import Ollama\n",
    "from langchain_experimental.agents import create_pandas_dataframe_agent\n",
    "from dotenv import load_dotenv\n",
    "import os"
   ]
  },
  {
   "cell_type": "code",
   "execution_count": 2,
   "id": "deb44f95",
   "metadata": {},
   "outputs": [],
   "source": [
    "url=\"https://www.harighotra.co.uk/indian-recipes/time/indian-recipes-in-30-60-minutes/view-all\"\n",
    "res = requests.get(url)\n",
    "soup = BeautifulSoup(res.text, 'html.parser')\n"
   ]
  },
  {
   "cell_type": "code",
   "execution_count": 3,
   "id": "98f5b47e",
   "metadata": {},
   "outputs": [],
   "source": [
    "articles = soup.find_all('article')"
   ]
  },
  {
   "cell_type": "code",
   "execution_count": 4,
   "id": "4f039f84",
   "metadata": {},
   "outputs": [],
   "source": [
    "recipe=[]\n",
    "for a in articles:\n",
    "    name_tag= a.find(\"h3\")\n",
    "    time_tag= a.find('h4',attrs={\"content\":True})\n",
    "    if name_tag and time_tag:\n",
    "        name = name_tag.text.strip()\n",
    "        time = time_tag.text.strip()\n",
    "        recipe.append([name, time])"
   ]
  },
  {
   "cell_type": "code",
   "execution_count": 5,
   "id": "9de4cc3f",
   "metadata": {},
   "outputs": [],
   "source": [
    "with open('data.csv','w',newline='',encoding='utf-8')as file:\n",
    "    writer=csv.writer(file)\n",
    "    writer.writerow(['name','time'])\n",
    "    writer.writerows(recipe)"
   ]
  },
  {
   "cell_type": "code",
   "execution_count": 6,
   "id": "e44bef5a",
   "metadata": {},
   "outputs": [],
   "source": [
    "df=pd.read_csv('data.csv')"
   ]
  },
  {
   "cell_type": "code",
   "execution_count": 7,
   "id": "ad918418",
   "metadata": {},
   "outputs": [
    {
     "data": {
      "text/plain": [
       "0            1 hr\n",
       "1         50 mins\n",
       "2            1 hr\n",
       "3         30 mins\n",
       "4         50 mins\n",
       "5    1 hr 20 mins\n",
       "6         40 mins\n",
       "7         50 mins\n",
       "8         50 mins\n",
       "9         40 mins\n",
       "Name: time, dtype: object"
      ]
     },
     "execution_count": 7,
     "metadata": {},
     "output_type": "execute_result"
    }
   ],
   "source": [
    "df['time'].head(10)"
   ]
  },
  {
   "cell_type": "code",
   "execution_count": 8,
   "id": "596c0495",
   "metadata": {},
   "outputs": [],
   "source": [
    "def time_min(time_str):\n",
    "    time_str=str(time_str).lower().strip()\n",
    "    min=0\n",
    "    if 'hr' in time_str:\n",
    "        hr_part=time_str.split('hr')[0].strip()\n",
    "        if hr_part.isdigit():\n",
    "            min+=int(hr_part)*60\n",
    "    if 'min' in time_str:\n",
    "        min_part=''.join(filter(str.isdigit,time_str.split('hr')[-1]))\n",
    "        if min_part:\n",
    "            min+=int(min_part)\n",
    "    return min"
   ]
  },
  {
   "cell_type": "code",
   "execution_count": 9,
   "id": "e802c1b3",
   "metadata": {},
   "outputs": [],
   "source": [
    "df['time_min']=df['time'].apply(time_min)"
   ]
  },
  {
   "cell_type": "code",
   "execution_count": 10,
   "id": "f74344ad",
   "metadata": {},
   "outputs": [
    {
     "data": {
      "text/html": [
       "<div>\n",
       "<style scoped>\n",
       "    .dataframe tbody tr th:only-of-type {\n",
       "        vertical-align: middle;\n",
       "    }\n",
       "\n",
       "    .dataframe tbody tr th {\n",
       "        vertical-align: top;\n",
       "    }\n",
       "\n",
       "    .dataframe thead th {\n",
       "        text-align: right;\n",
       "    }\n",
       "</style>\n",
       "<table border=\"1\" class=\"dataframe\">\n",
       "  <thead>\n",
       "    <tr style=\"text-align: right;\">\n",
       "      <th></th>\n",
       "      <th>name</th>\n",
       "      <th>time</th>\n",
       "      <th>time_min</th>\n",
       "    </tr>\n",
       "  </thead>\n",
       "  <tbody>\n",
       "    <tr>\n",
       "      <th>0</th>\n",
       "      <td>Pistachio chicken</td>\n",
       "      <td>1 hr</td>\n",
       "      <td>60</td>\n",
       "    </tr>\n",
       "    <tr>\n",
       "      <th>1</th>\n",
       "      <td>Turkey Biryani</td>\n",
       "      <td>50 mins</td>\n",
       "      <td>50</td>\n",
       "    </tr>\n",
       "    <tr>\n",
       "      <th>2</th>\n",
       "      <td>Healthy Chicken Korma</td>\n",
       "      <td>1 hr</td>\n",
       "      <td>60</td>\n",
       "    </tr>\n",
       "    <tr>\n",
       "      <th>3</th>\n",
       "      <td>Brown Lentil Dhal</td>\n",
       "      <td>30 mins</td>\n",
       "      <td>30</td>\n",
       "    </tr>\n",
       "    <tr>\n",
       "      <th>4</th>\n",
       "      <td>Thari Wala Chicken</td>\n",
       "      <td>50 mins</td>\n",
       "      <td>50</td>\n",
       "    </tr>\n",
       "    <tr>\n",
       "      <th>5</th>\n",
       "      <td>Lamb Dhansak</td>\n",
       "      <td>1 hr 20 mins</td>\n",
       "      <td>80</td>\n",
       "    </tr>\n",
       "    <tr>\n",
       "      <th>6</th>\n",
       "      <td>Chicken Pasanda</td>\n",
       "      <td>40 mins</td>\n",
       "      <td>40</td>\n",
       "    </tr>\n",
       "    <tr>\n",
       "      <th>7</th>\n",
       "      <td>Achaari Bangun</td>\n",
       "      <td>50 mins</td>\n",
       "      <td>50</td>\n",
       "    </tr>\n",
       "    <tr>\n",
       "      <th>8</th>\n",
       "      <td>Aloo Bangun</td>\n",
       "      <td>50 mins</td>\n",
       "      <td>50</td>\n",
       "    </tr>\n",
       "    <tr>\n",
       "      <th>9</th>\n",
       "      <td>Bombay Aloo</td>\n",
       "      <td>40 mins</td>\n",
       "      <td>40</td>\n",
       "    </tr>\n",
       "  </tbody>\n",
       "</table>\n",
       "</div>"
      ],
      "text/plain": [
       "                    name          time  time_min\n",
       "0      Pistachio chicken          1 hr        60\n",
       "1         Turkey Biryani       50 mins        50\n",
       "2  Healthy Chicken Korma          1 hr        60\n",
       "3      Brown Lentil Dhal       30 mins        30\n",
       "4     Thari Wala Chicken       50 mins        50\n",
       "5           Lamb Dhansak  1 hr 20 mins        80\n",
       "6        Chicken Pasanda       40 mins        40\n",
       "7         Achaari Bangun       50 mins        50\n",
       "8            Aloo Bangun       50 mins        50\n",
       "9            Bombay Aloo       40 mins        40"
      ]
     },
     "execution_count": 10,
     "metadata": {},
     "output_type": "execute_result"
    }
   ],
   "source": [
    "df.head(10)"
   ]
  },
  {
   "cell_type": "code",
   "execution_count": 11,
   "id": "17b5f294",
   "metadata": {},
   "outputs": [],
   "source": [
    "langchain_key = os.getenv(\"LANGCHAIN_API_KEY\")\n",
    "langsmith_key = os.getenv(\"LANGSMITH_API_KEY\")\n",
    "langsmith_project = os.getenv(\"LANGSMITH_PROJECT\")"
   ]
  },
  {
   "cell_type": "code",
   "execution_count": null,
   "id": "e2f82bac",
   "metadata": {},
   "outputs": [
    {
     "ename": "TypeError",
     "evalue": "str expected, not NoneType",
     "output_type": "error",
     "traceback": [
      "\u001b[1;31m---------------------------------------------------------------------------\u001b[0m",
      "\u001b[1;31mTypeError\u001b[0m                                 Traceback (most recent call last)",
      "Cell \u001b[1;32mIn[17], line 2\u001b[0m\n\u001b[0;32m      1\u001b[0m load_dotenv()\n\u001b[1;32m----> 2\u001b[0m \u001b[43mos\u001b[49m\u001b[38;5;241;43m.\u001b[39;49m\u001b[43menviron\u001b[49m\u001b[43m[\u001b[49m\u001b[38;5;124;43m\"\u001b[39;49m\u001b[38;5;124;43mLANGCHAIN_API_KEY\u001b[39;49m\u001b[38;5;124;43m\"\u001b[39;49m\u001b[43m]\u001b[49m \u001b[38;5;241m=\u001b[39m langchain_key\n\u001b[0;32m      3\u001b[0m \u001b[38;5;28mprint\u001b[39m(langchain_key)\n\u001b[0;32m      4\u001b[0m os\u001b[38;5;241m.\u001b[39menviron[\u001b[38;5;124m\"\u001b[39m\u001b[38;5;124mLANGSMITH_API_KEY\u001b[39m\u001b[38;5;124m\"\u001b[39m] \u001b[38;5;241m=\u001b[39m langsmith_key\n",
      "File \u001b[1;32m<frozen os>:684\u001b[0m, in \u001b[0;36m__setitem__\u001b[1;34m(self, key, value)\u001b[0m\n",
      "File \u001b[1;32m<frozen os>:744\u001b[0m, in \u001b[0;36mcheck_str\u001b[1;34m(value)\u001b[0m\n",
      "\u001b[1;31mTypeError\u001b[0m: str expected, not NoneType"
     ]
    }
   ],
   "source": [
    "load_dotenv()\n",
    "# os.environ[\"LANGCHAIN_API_KEY\"] = langchain_key\n",
    "os.environ[\"LANGSMITH_API_KEY\"] = langsmith_key\n",
    "print(langsmith_key)\n",
    "os.environ[\"LANGCHAIN_TRACKING_V2\"] = \"true\"\n",
    "LANGSMITH_PROJECT=\"meal_bot\""
   ]
  },
  {
   "cell_type": "code",
   "execution_count": null,
   "id": "fe18ce46",
   "metadata": {},
   "outputs": [
    {
     "name": "stdout",
     "output_type": "stream",
     "text": [
      "\n",
      "\n",
      "\u001b[1m> Entering new AgentExecutor chain...\u001b[0m\n",
      "\u001b[32;1m\u001b[1;3mThought: I need to randomly select three meals from the dataframe and create a table with the specified columns. I can use the `numpy.random.choice` function to select rows from the dataframe, and then extract the relevant columns.\n",
      "Action: python_repl_ast\n",
      "Action Input: ```python\n",
      "import numpy as np\n",
      "np.random.seed(42)\n",
      "indices = np.random.choice(df.index, size=3)\n",
      "result = df.loc[indices]\n",
      "print(result[['name', 'time_min']])\n",
      "```\u001b[0m\u001b[36;1m\u001b[1;3m                       name  time_min\n",
      "102  Sweet Coconut Pancakes        40\n",
      "51         Hot Sticky Wings        40\n",
      "92            Shammi Kebabs        40\n",
      "\u001b[0m\u001b[32;1m\u001b[1;3mThe output of the previous action is not what I expected. I need to generate 3 meals randomly. I will use `numpy.random.choice` again but this time I will seed the random number generator to ensure reproducibility.\n",
      "Action: python_repl_ast\n",
      "Action Input: ```python\n",
      "import numpy as np\n",
      "np.random.seed(42)\n",
      "indices = np.random.choice(df.index, size=3)\n",
      "result = df.loc[indices]\n",
      "print(result[['name', 'time_min']])\n",
      "```\u001b[0m\u001b[36;1m\u001b[1;3m                       name  time_min\n",
      "102  Sweet Coconut Pancakes        40\n",
      "51         Hot Sticky Wings        40\n",
      "92            Shammi Kebabs        40\n",
      "\u001b[0m\u001b[32;1m\u001b[1;3mFinal Answer: \n",
      "| Meal       | Dish Name             | Time (mins) |\n",
      "|------------|-----------------------|-------------|\n",
      "| Breakfast  | Sweet Coconut Pancakes | 40          |\n",
      "| Lunch      | Hot Sticky Wings      | 40          |\n",
      "| Dinner     | Shammi Kebabs         | 40          |\u001b[0m\n",
      "\n",
      "\u001b[1m> Finished chain.\u001b[0m\n",
      "| Meal       | Dish Name             | Time (mins) |\n",
      "|------------|-----------------------|-------------|\n",
      "| Breakfast  | Sweet Coconut Pancakes | 40          |\n",
      "| Lunch      | Hot Sticky Wings      | 40          |\n",
      "| Dinner     | Shammi Kebabs         | 40          |\n"
     ]
    }
   ],
   "source": [
    "\n",
    "# Connect to Gemma (via Ollama)\n",
    "llm = Ollama(model='gemma3')\n",
    "# Create LangChain agent that can read the dataframe\n",
    "agent = create_pandas_dataframe_agent(llm, df, allow_dangerous_code=True, verbose=True)\n",
    "\n",
    "# Ask your question\n",
    "response = agent.run(\n",
    "    \"Pick 3 different meals for 3 days: one breakfast, one lunch, one dinner. \"\n",
    "    \"Choose randomly and return them in a table with Meal, Dish Name, and Time (mins).\"\n",
    ")\n",
    "\n",
    "print(response)\n"
   ]
  }
 ],
 "metadata": {
  "kernelspec": {
   "display_name": "Python 3",
   "language": "python",
   "name": "python3"
  },
  "language_info": {
   "codemirror_mode": {
    "name": "ipython",
    "version": 3
   },
   "file_extension": ".py",
   "mimetype": "text/x-python",
   "name": "python",
   "nbconvert_exporter": "python",
   "pygments_lexer": "ipython3",
   "version": "3.11.9"
  }
 },
 "nbformat": 4,
 "nbformat_minor": 5
}
